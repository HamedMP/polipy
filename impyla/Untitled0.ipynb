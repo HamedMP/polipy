{
 "metadata": {
  "name": ""
 },
 "nbformat": 3,
 "nbformat_minor": 0,
 "worksheets": [
  {
   "cells": [
    {
     "cell_type": "code",
     "collapsed": false,
     "input": [
      "import impala.dbapi\n"
     ],
     "language": "python",
     "metadata": {},
     "outputs": [],
     "prompt_number": 1
    },
    {
     "cell_type": "code",
     "collapsed": false,
     "input": [
      "ls\n"
     ],
     "language": "python",
     "metadata": {},
     "outputs": [
      {
       "output_type": "stream",
       "stream": "stdout",
       "text": [
        "DEVELOP.md       README.md        \u001b[34mbuild\u001b[m\u001b[m/           \u001b[34mtests\u001b[m\u001b[m/\r\n",
        "LICENSE.txt      TODO.md          \u001b[34mimpala\u001b[m\u001b[m/          \u001b[34mthrift\u001b[m\u001b[m/\r\n",
        "MANIFEST.in      Untitled0.ipynb  setup.py\r\n"
       ]
      }
     ],
     "prompt_number": 2
    },
    {
     "cell_type": "code",
     "collapsed": false,
     "input": [
      "cd ..\n"
     ],
     "language": "python",
     "metadata": {},
     "outputs": [
      {
       "output_type": "stream",
       "stream": "stdout",
       "text": [
        "/Users/dagilmore/Dev/polianalytics/python_wrapper\n"
       ]
      }
     ],
     "prompt_number": 3
    },
    {
     "cell_type": "code",
     "collapsed": false,
     "input": [
      "import polipy.adhoc\n"
     ],
     "language": "python",
     "metadata": {},
     "outputs": [],
     "prompt_number": 4
    },
    {
     "cell_type": "code",
     "collapsed": false,
     "input": [
      "from polipy.adhoc import impala_repo\n"
     ],
     "language": "python",
     "metadata": {},
     "outputs": [],
     "prompt_number": 11
    },
    {
     "cell_type": "code",
     "collapsed": false,
     "input": [
      "ls\n"
     ],
     "language": "python",
     "metadata": {},
     "outputs": [
      {
       "output_type": "stream",
       "stream": "stdout",
       "text": [
        "README.md         \u001b[34menv\u001b[m\u001b[m/              \u001b[34mimpyla\u001b[m\u001b[m/           requirements.txt\r\n",
        "Untitled0.ipynb   \u001b[34mimages\u001b[m\u001b[m/           \u001b[34mpolipy\u001b[m\u001b[m/           \u001b[34mtest\u001b[m\u001b[m/\r\n"
       ]
      }
     ],
     "prompt_number": 6
    },
    {
     "cell_type": "code",
     "collapsed": false,
     "input": [
      "cd impyla/\n"
     ],
     "language": "python",
     "metadata": {},
     "outputs": [
      {
       "output_type": "stream",
       "stream": "stdout",
       "text": [
        "/Users/dagilmore/Dev/polianalytics/python_wrapper/impyla\n"
       ]
      }
     ],
     "prompt_number": 7
    },
    {
     "cell_type": "code",
     "collapsed": false,
     "input": [
      "ls\n"
     ],
     "language": "python",
     "metadata": {},
     "outputs": [
      {
       "output_type": "stream",
       "stream": "stdout",
       "text": [
        "DEVELOP.md       README.md        \u001b[34mbuild\u001b[m\u001b[m/           \u001b[34mtests\u001b[m\u001b[m/\r\n",
        "LICENSE.txt      TODO.md          \u001b[34mimpala\u001b[m\u001b[m/          \u001b[34mthrift\u001b[m\u001b[m/\r\n",
        "MANIFEST.in      Untitled0.ipynb  setup.py\r\n"
       ]
      }
     ],
     "prompt_number": 8
    },
    {
     "cell_type": "code",
     "collapsed": false,
     "input": [
      "import impala.util\n"
     ],
     "language": "python",
     "metadata": {},
     "outputs": [],
     "prompt_number": 9
    },
    {
     "cell_type": "code",
     "collapsed": false,
     "input": [
      "cd ..\n"
     ],
     "language": "python",
     "metadata": {},
     "outputs": [
      {
       "output_type": "stream",
       "stream": "stdout",
       "text": [
        "/Users/dagilmore/Dev/polianalytics/python_wrapper\n"
       ]
      }
     ],
     "prompt_number": 10
    },
    {
     "cell_type": "code",
     "collapsed": false,
     "input": [
      "df = impala_repo.select_dataframe(\"\")"
     ],
     "language": "python",
     "metadata": {},
     "outputs": [],
     "prompt_number": 12
    },
    {
     "cell_type": "code",
     "collapsed": false,
     "input": [
      "print df"
     ],
     "language": "python",
     "metadata": {},
     "outputs": [
      {
       "output_type": "stream",
       "stream": "stdout",
       "text": [
        "  cycle fec_trans_id    contrib_id                   contrib   recip_id  \\\n",
        "0  2004      1133424  h3001360304    MC CORMAC, DOUGLAS E MR  C00003418   \n",
        "1  2004      1133425  h3001354381        MC CORMACK, ANNE MS  C00003418   \n",
        "2  2004      1133426  h2001168671     MC CORMACK, JORGE M MR  C00003418   \n",
        "3  2004      1133427  h2001155976      MC CORMICK, ALAN L MR  C00003418   \n",
        "4  2004      1133428  h1001138972   MC CORMICK, RICHARD E MR  C00003418   \n",
        "5  2004      1133429  h3001365918   MC CRACKEN, JEFFREY A MR  C00003418   \n",
        "6  2004      1133430  h1001123150      MC CREA, ELIZABETH MS  C00003418   \n",
        "7  2004      1133431  h1001123150      MC CREA, ELIZABETH MS  C00003418   \n",
        "8  2004      1133432  h3001366960          MC CREADY, JOHN &  C00003418   \n",
        "9  2004      1133433  h3001363511    MC CULLOCH, HAROLD Y MR  C00003418   \n",
        "\n",
        "             org_name           ult_org real_code transaction_dt  \\\n",
        "0             Retired                       X1200     02/17/2004   \n",
        "1             Retired                       X1200     02/18/2004   \n",
        "2   Stephen Nelson MD                       H1100     02/20/2004   \n",
        "3            Investor                       F7000     02/04/2004   \n",
        "4    US Embassy Seoul  US Dept of State     X3000     02/10/2004   \n",
        "5    Norfolk Southern                       T5100     02/02/2004   \n",
        "6             Retired                       X1200     02/09/2004   \n",
        "7             Retired                       X1200     02/17/2004   \n",
        "8  Haring Real Estate                       F4000     02/23/2004   \n",
        "9           DeVry Inc                       H5200     02/17/2004   \n",
        "\n",
        "   transaction_ts  amount                          street              city  \\\n",
        "0      1076976000     250                       220 Ave F     REDONDO BEACH   \n",
        "1      1077062400     250                 14 Hawthorne St        RUTHERFORD   \n",
        "2      1077235200     550        7 Brightwaters Circle NE  SAINT PETERSBURG   \n",
        "3      1075852800    1000          387 Blazing Star Court           WINDSOR   \n",
        "4      1076371200    5000                      Unit 15550               APO   \n",
        "5      1075680000     600                  150 Rolling Rd     SOCIAL CIRCLE   \n",
        "6      1076284800     750  23033 Westchester Boulevard C3    PORT CHARLOTTE   \n",
        "7      1076976000     300  23033 Westchester Boulevard C3    PORT CHARLOTTE   \n",
        "8      1077494400     300                                         LEXINGTON   \n",
        "9      1076976000     250            197 Independence Way       MORGANVILLE   \n",
        "\n",
        "  state    zip recip_code type   cmtel_id other_id gender      \n",
        "0    CA  90277         RP  15   C00003418               M ...  \n",
        "1    NJ  07070         RP  15   C00003418               F ...  \n",
        "2    FL  33704         RP  15   C00003418               M ...  \n",
        "3    CA  95492         RP  15   C00003418               M ...  \n",
        "4    ZZ  96205         RP  15   C00003418               M ...  \n",
        "5    GA  30025         RP  15   C00003418               M ...  \n",
        "6    FL  33980         RP  15   C00003418               F ...  \n",
        "7    FL  33980         RP  15   C00003418               F ...  \n",
        "8    OH  44904         RP  15   C00003418               M ...  \n",
        "9    NJ  07751         RP  15   C00003418               M ...  \n",
        "\n",
        "[10 rows x 27 columns]\n"
       ]
      }
     ],
     "prompt_number": 13
    },
    {
     "cell_type": "code",
     "collapsed": false,
     "input": [
      "\n",
      "    "
     ],
     "language": "python",
     "metadata": {},
     "outputs": [
      {
       "ename": "NameError",
       "evalue": "name 'select' is not defined",
       "output_type": "pyerr",
       "traceback": [
        "\u001b[0;31m---------------------------------------------------------------------------\u001b[0m\n\u001b[0;31mNameError\u001b[0m                                 Traceback (most recent call last)",
        "\u001b[0;32m<ipython-input-14-295b3503fcd0>\u001b[0m in \u001b[0;36m<module>\u001b[0;34m()\u001b[0m\n\u001b[0;32m----> 1\u001b[0;31m \u001b[0mdf\u001b[0m \u001b[0;34m=\u001b[0m \u001b[0mselect\u001b[0m\u001b[0;34m(\u001b[0m\u001b[0;34m\"crp\"\u001b[0m\u001b[0;34m,\u001b[0m \u001b[0;34m\"individual_contributions\"\u001b[0m\u001b[0;34m,\u001b[0m \u001b[0;36m0\u001b[0m\u001b[0;34m,\u001b[0m \u001b[0;34m\"recip_id\"\u001b[0m\u001b[0;34m,\u001b[0m \u001b[0;34m\"contrib_id\"\u001b[0m\u001b[0;34m,\u001b[0m \u001b[0;34m\"amount\"\u001b[0m\u001b[0;34m,\u001b[0m \u001b[0;34m\"transaction_ts\"\u001b[0m\u001b[0;34m,\u001b[0m \u001b[0mtransaction_ts\u001b[0m\u001b[0;34m=\u001b[0m\u001b[0;36m663465600\u001b[0m\u001b[0;34m)\u001b[0m\u001b[0;34m\u001b[0m\u001b[0m\n\u001b[0m\u001b[1;32m      2\u001b[0m \u001b[0;34m\u001b[0m\u001b[0m\n",
        "\u001b[0;31mNameError\u001b[0m: name 'select' is not defined"
       ]
      }
     ],
     "prompt_number": 14
    },
    {
     "cell_type": "code",
     "collapsed": false,
     "input": [
      "print df\n"
     ],
     "language": "python",
     "metadata": {},
     "outputs": []
    },
    {
     "cell_type": "code",
     "collapsed": false,
     "input": [
      "  df = impala_repo.select(\"crp\", \"individual_contributions\", 0, \"recip_id\", \"contrib_id\", \"amount\", \"transaction_ts\", transaction_ts=663465600)"
     ],
     "language": "python",
     "metadata": {},
     "outputs": [
      {
       "ename": "TypeError",
       "evalue": "select() takes at most 3 arguments (8 given)",
       "output_type": "pyerr",
       "traceback": [
        "\u001b[0;31m---------------------------------------------------------------------------\u001b[0m\n\u001b[0;31mTypeError\u001b[0m                                 Traceback (most recent call last)",
        "\u001b[0;32m<ipython-input-15-f48458c412ca>\u001b[0m in \u001b[0;36m<module>\u001b[0;34m()\u001b[0m\n\u001b[0;32m----> 1\u001b[0;31m \u001b[0mdf\u001b[0m \u001b[0;34m=\u001b[0m \u001b[0mimpala_repo\u001b[0m\u001b[0;34m.\u001b[0m\u001b[0mselect\u001b[0m\u001b[0;34m(\u001b[0m\u001b[0;34m\"crp\"\u001b[0m\u001b[0;34m,\u001b[0m \u001b[0;34m\"individual_contributions\"\u001b[0m\u001b[0;34m,\u001b[0m \u001b[0;36m0\u001b[0m\u001b[0;34m,\u001b[0m \u001b[0;34m\"recip_id\"\u001b[0m\u001b[0;34m,\u001b[0m \u001b[0;34m\"contrib_id\"\u001b[0m\u001b[0;34m,\u001b[0m \u001b[0;34m\"amount\"\u001b[0m\u001b[0;34m,\u001b[0m \u001b[0;34m\"transaction_ts\"\u001b[0m\u001b[0;34m,\u001b[0m \u001b[0mtransaction_ts\u001b[0m\u001b[0;34m=\u001b[0m\u001b[0;36m663465600\u001b[0m\u001b[0;34m)\u001b[0m\u001b[0;34m\u001b[0m\u001b[0m\n\u001b[0m",
        "\u001b[0;31mTypeError\u001b[0m: select() takes at most 3 arguments (8 given)"
       ]
      }
     ],
     "prompt_number": 15
    },
    {
     "cell_type": "code",
     "collapsed": false,
     "input": [
      "from polipy.adhoc import impala_repo"
     ],
     "language": "python",
     "metadata": {},
     "outputs": [],
     "prompt_number": 16
    },
    {
     "cell_type": "code",
     "collapsed": false,
     "input": [
      " df = impala_repo.select(\"crp\", \"individual_contributions\", 0, \"recip_id\", \"contrib_id\", \"amount\", \"transaction_ts\", transaction_ts=663465600)"
     ],
     "language": "python",
     "metadata": {},
     "outputs": [
      {
       "ename": "TypeError",
       "evalue": "select() takes at most 3 arguments (8 given)",
       "output_type": "pyerr",
       "traceback": [
        "\u001b[0;31m---------------------------------------------------------------------------\u001b[0m\n\u001b[0;31mTypeError\u001b[0m                                 Traceback (most recent call last)",
        "\u001b[0;32m<ipython-input-17-f48458c412ca>\u001b[0m in \u001b[0;36m<module>\u001b[0;34m()\u001b[0m\n\u001b[0;32m----> 1\u001b[0;31m \u001b[0mdf\u001b[0m \u001b[0;34m=\u001b[0m \u001b[0mimpala_repo\u001b[0m\u001b[0;34m.\u001b[0m\u001b[0mselect\u001b[0m\u001b[0;34m(\u001b[0m\u001b[0;34m\"crp\"\u001b[0m\u001b[0;34m,\u001b[0m \u001b[0;34m\"individual_contributions\"\u001b[0m\u001b[0;34m,\u001b[0m \u001b[0;36m0\u001b[0m\u001b[0;34m,\u001b[0m \u001b[0;34m\"recip_id\"\u001b[0m\u001b[0;34m,\u001b[0m \u001b[0;34m\"contrib_id\"\u001b[0m\u001b[0;34m,\u001b[0m \u001b[0;34m\"amount\"\u001b[0m\u001b[0;34m,\u001b[0m \u001b[0;34m\"transaction_ts\"\u001b[0m\u001b[0;34m,\u001b[0m \u001b[0mtransaction_ts\u001b[0m\u001b[0;34m=\u001b[0m\u001b[0;36m663465600\u001b[0m\u001b[0;34m)\u001b[0m\u001b[0;34m\u001b[0m\u001b[0m\n\u001b[0m",
        "\u001b[0;31mTypeError\u001b[0m: select() takes at most 3 arguments (8 given)"
       ]
      }
     ],
     "prompt_number": 17
    },
    {
     "cell_type": "code",
     "collapsed": false,
     "input": [],
     "language": "python",
     "metadata": {},
     "outputs": []
    }
   ],
   "metadata": {}
  }
 ]
}