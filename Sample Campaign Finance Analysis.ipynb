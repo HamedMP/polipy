{
 "metadata": {
  "name": ""
 },
 "nbformat": 3,
 "nbformat_minor": 0,
 "worksheets": [
  {
   "cells": [
    {
     "cell_type": "code",
     "collapsed": false,
     "input": [
      "import impala\n",
      "\n",
      "from polipy.adhoc import impala_repo\n"
     ],
     "language": "python",
     "metadata": {},
     "outputs": [],
     "prompt_number": 1
    },
    {
     "cell_type": "code",
     "collapsed": false,
     "input": [
      "df = impala_repo.select_dataframe(\"SELECT contrib_id, bioguide_id, transaction_dt, zip, type, amount, l.gender, birthday, religion, real_code FROM entities.legislators l JOIN crp.individual_contributions i ON recip_id = opensecrets_id WHERE transaction_ts > 1375590539\")"
     ],
     "language": "python",
     "metadata": {},
     "outputs": [],
     "prompt_number": 2
    },
    {
     "cell_type": "code",
     "collapsed": false,
     "input": [
      "df = df.set_index('transaction_dt')\n"
     ],
     "language": "python",
     "metadata": {},
     "outputs": [],
     "prompt_number": 3
    },
    {
     "cell_type": "code",
     "collapsed": false,
     "input": [
      "df.head()\n"
     ],
     "language": "python",
     "metadata": {},
     "outputs": [
      {
       "html": [
        "<div style=\"max-height:1000px;max-width:1500px;overflow:auto;\">\n",
        "<table border=\"1\" class=\"dataframe\">\n",
        "  <thead>\n",
        "    <tr style=\"text-align: right;\">\n",
        "      <th></th>\n",
        "      <th>contrib_id</th>\n",
        "      <th>bioguide_id</th>\n",
        "      <th>zip</th>\n",
        "      <th>type</th>\n",
        "      <th>amount</th>\n",
        "      <th>gender</th>\n",
        "      <th>birthday</th>\n",
        "      <th>religion</th>\n",
        "      <th>real_code</th>\n",
        "    </tr>\n",
        "    <tr>\n",
        "      <th>transaction_dt</th>\n",
        "      <th></th>\n",
        "      <th></th>\n",
        "      <th></th>\n",
        "      <th></th>\n",
        "      <th></th>\n",
        "      <th></th>\n",
        "      <th></th>\n",
        "      <th></th>\n",
        "      <th></th>\n",
        "    </tr>\n",
        "  </thead>\n",
        "  <tbody>\n",
        "    <tr>\n",
        "      <th>08/29/2013</th>\n",
        "      <td> m0001869185 </td>\n",
        "      <td> F000457</td>\n",
        "      <td> 10708</td>\n",
        "      <td> 15J</td>\n",
        "      <td> 2500</td>\n",
        "      <td> M</td>\n",
        "      <td> -587520000</td>\n",
        "      <td> None</td>\n",
        "      <td> Y1000</td>\n",
        "    </tr>\n",
        "    <tr>\n",
        "      <th>08/29/2013</th>\n",
        "      <td> m0001869185 </td>\n",
        "      <td> F000457</td>\n",
        "      <td> 10708</td>\n",
        "      <td> 15J</td>\n",
        "      <td> 2500</td>\n",
        "      <td> M</td>\n",
        "      <td> -587520000</td>\n",
        "      <td> None</td>\n",
        "      <td> Y1000</td>\n",
        "    </tr>\n",
        "    <tr>\n",
        "      <th>08/31/2013</th>\n",
        "      <td> h10012860461</td>\n",
        "      <td> F000457</td>\n",
        "      <td> 92612</td>\n",
        "      <td> 24T</td>\n",
        "      <td> 1000</td>\n",
        "      <td> M</td>\n",
        "      <td> -587520000</td>\n",
        "      <td> None</td>\n",
        "      <td> Z9500</td>\n",
        "    </tr>\n",
        "    <tr>\n",
        "      <th>08/07/2013</th>\n",
        "      <td> n0001176271 </td>\n",
        "      <td> B001287</td>\n",
        "      <td> 94702</td>\n",
        "      <td> 24T</td>\n",
        "      <td>  200</td>\n",
        "      <td> M</td>\n",
        "      <td> -152582400</td>\n",
        "      <td> None</td>\n",
        "      <td> Z9500</td>\n",
        "    </tr>\n",
        "    <tr>\n",
        "      <th>08/07/2013</th>\n",
        "      <td> h1001342438 </td>\n",
        "      <td> B001287</td>\n",
        "      <td> 95864</td>\n",
        "      <td> 24T</td>\n",
        "      <td>  250</td>\n",
        "      <td> M</td>\n",
        "      <td> -152582400</td>\n",
        "      <td> None</td>\n",
        "      <td> Z9500</td>\n",
        "    </tr>\n",
        "  </tbody>\n",
        "</table>\n",
        "<p>5 rows \u00d7 9 columns</p>\n",
        "</div>"
       ],
       "metadata": {},
       "output_type": "pyout",
       "prompt_number": 4,
       "text": [
        "                  contrib_id bioguide_id    zip type  amount gender  \\\n",
        "transaction_dt                                                        \n",
        "08/29/2013      m0001869185      F000457  10708  15J    2500      M   \n",
        "08/29/2013      m0001869185      F000457  10708  15J    2500      M   \n",
        "08/31/2013      h10012860461     F000457  92612  24T    1000      M   \n",
        "08/07/2013      n0001176271      B001287  94702  24T     200      M   \n",
        "08/07/2013      h1001342438      B001287  95864  24T     250      M   \n",
        "\n",
        "                  birthday religion real_code  \n",
        "transaction_dt                                 \n",
        "08/29/2013      -587520000     None     Y1000  \n",
        "08/29/2013      -587520000     None     Y1000  \n",
        "08/31/2013      -587520000     None     Z9500  \n",
        "08/07/2013      -152582400     None     Z9500  \n",
        "08/07/2013      -152582400     None     Z9500  \n",
        "\n",
        "[5 rows x 9 columns]"
       ]
      }
     ],
     "prompt_number": 4
    },
    {
     "cell_type": "code",
     "collapsed": false,
     "input": [
      "import datetime\n",
      "\n",
      "import pandas as pd\n",
      "import pandas.io.data\n",
      "from pandas import Series, DataFrame\n",
      "import matplotlib.pyplot as plt\n",
      "import matplotlib as mpl"
     ],
     "language": "python",
     "metadata": {},
     "outputs": [],
     "prompt_number": 5
    },
    {
     "cell_type": "code",
     "collapsed": false,
     "input": [
      "mpl.rc('figure', figsize=(8, 7))"
     ],
     "language": "python",
     "metadata": {},
     "outputs": [],
     "prompt_number": 6
    },
    {
     "cell_type": "code",
     "collapsed": false,
     "input": [
      "amount = df['amount']"
     ],
     "language": "python",
     "metadata": {},
     "outputs": [],
     "prompt_number": 7
    },
    {
     "cell_type": "code",
     "collapsed": false,
     "input": [
      "mavg = pd.rolling_mean(amount, 40)\n",
      "mavg[-10:]"
     ],
     "language": "python",
     "metadata": {},
     "outputs": [
      {
       "metadata": {},
       "output_type": "pyout",
       "prompt_number": 8,
       "text": [
        "transaction_dt\n",
        "08/28/2013        1215.00\n",
        "08/05/2013        1215.00\n",
        "08/09/2013        1200.00\n",
        "09/19/2013        1237.50\n",
        "08/20/2013        1181.25\n",
        "09/05/2013        1237.50\n",
        "08/23/2013        1212.50\n",
        "09/12/2013        1200.00\n",
        "09/30/2013        1190.00\n",
        "09/30/2013        1150.00\n",
        "dtype: float64"
       ]
      }
     ],
     "prompt_number": 8
    },
    {
     "cell_type": "code",
     "collapsed": false,
     "input": [
      "%matplotlib inline\n",
      "mavg.plot(label='mavg')\n",
      "plt.legend()\n",
      "plt.show()"
     ],
     "language": "python",
     "metadata": {},
     "outputs": [
      {
       "metadata": {},
       "output_type": "display_data",
       "png": "[encoded data removed]",
       "text": [
        "<matplotlib.figure.Figure at 0x10af4b110>"
       ]
      }
     ],
     "prompt_number": 11
    },
    {
     "cell_type": "code",
     "collapsed": false,
     "input": [],
     "language": "python",
     "metadata": {},
     "outputs": []
    }
   ],
   "metadata": {}
  }
 ]
}